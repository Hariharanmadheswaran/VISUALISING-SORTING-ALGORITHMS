{
 "cells": [
  {
   "cell_type": "code",
   "execution_count": 34,
   "id": "56db5e37",
   "metadata": {},
   "outputs": [],
   "source": [
    "import random\n",
    "import cv2 as cv\n",
    "import numpy as np\n",
    "import time"
   ]
  },
  {
   "cell_type": "code",
   "execution_count": 35,
   "id": "c54f42ad",
   "metadata": {},
   "outputs": [],
   "source": [
    "def minimum(arr,index):\n",
    "    min_index=index\n",
    "    for i in range(index,len(arr)):\n",
    "        if arr[i]<arr[min_index]:\n",
    "            min_index=i\n",
    "    return min_index\n",
    "\n",
    "def selection_sort(arr):\n",
    "    for i in range(len(arr)):\n",
    "        min_index=minimum(arr,i)\n",
    "        if min_index!=i:\n",
    "            arr[min_index],arr[i]=arr[i],arr[min_index]\n",
    "        return arr\n",
    "    return arr\n"
   ]
  },
  {
   "cell_type": "markdown",
   "id": "e5b899d1",
   "metadata": {},
   "source": [
    "# IMPLEMENTATION"
   ]
  },
  {
   "cell_type": "code",
   "execution_count": 36,
   "id": "19b9f305",
   "metadata": {},
   "outputs": [],
   "source": [
    "arr=[random.randint(1,500) for i in range(500)]"
   ]
  },
  {
   "cell_type": "code",
   "execution_count": 37,
   "id": "ce4059d4",
   "metadata": {},
   "outputs": [],
   "source": [
    "kk=0\n",
    "while True:\n",
    "    blank=np.zeros((600,600,3),dtype=\"uint8\")\n",
    "    \n",
    "    min_index = minimum(arr, kk)\n",
    "    if min_index != kk:\n",
    "        arr[min_index], arr[kk] = arr[kk], arr[min_index]\n",
    "    kk+=1\n",
    "    for i in range(len(arr)):\n",
    "        cv.line(blank,(i,600),(i,600-arr[i]),(255,255,255))\n",
    "    cv.imshow(\"selection sort\",blank)\n",
    "    time.sleep(.05)\n",
    "    if cv.waitKey(1)==ord(\"q\"):\n",
    "        break\n",
    "cv.destroyAllWindows()"
   ]
  },
  {
   "cell_type": "code",
   "execution_count": null,
   "id": "28e25b12",
   "metadata": {},
   "outputs": [],
   "source": []
  }
 ],
 "metadata": {
  "kernelspec": {
   "display_name": "pandas_venv",
   "language": "python",
   "name": "pandas_venv"
  },
  "language_info": {
   "codemirror_mode": {
    "name": "ipython",
    "version": 3
   },
   "file_extension": ".py",
   "mimetype": "text/x-python",
   "name": "python",
   "nbconvert_exporter": "python",
   "pygments_lexer": "ipython3",
   "version": "3.10.1"
  }
 },
 "nbformat": 4,
 "nbformat_minor": 5
}
