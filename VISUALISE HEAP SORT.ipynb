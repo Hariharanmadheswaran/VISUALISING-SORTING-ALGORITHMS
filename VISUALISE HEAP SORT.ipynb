{
 "cells": [
  {
   "cell_type": "code",
   "execution_count": 1,
   "id": "300b5c64",
   "metadata": {},
   "outputs": [],
   "source": [
    "import cv2 as cv\n",
    "import random\n",
    "import time\n",
    "import numpy as np"
   ]
  },
  {
   "cell_type": "code",
   "execution_count": 2,
   "id": "640b43cf",
   "metadata": {},
   "outputs": [],
   "source": [
    "def heapify(arr, n, i):\n",
    "\n",
    "    largest = i\n",
    "    l = 2 * i + 1\n",
    "    r = 2 * i + 2\n",
    "\n",
    "    if l < n and arr[i] < arr[l]:\n",
    "          largest = l\n",
    "\n",
    "    if r < n and arr[largest] < arr[r]:\n",
    "          largest = r\n",
    "\n",
    "    if largest != i:\n",
    "        arr[i], arr[largest] = arr[largest], arr[i]\n",
    "        heapify(arr, n, largest)\n",
    "\n",
    "\n",
    "def heapSort(arr):\n",
    "    n = len(arr)\n",
    "\n",
    "\n",
    "    for i in range(n//2, -1, -1):\n",
    "        heapify(arr, n, i)\n",
    "\n",
    "    for i in range(n-1, 0, -1):\n",
    "\n",
    "        arr[i], arr[0] = arr[0], arr[i]\n",
    "        heapify(arr, i, 0)\n",
    "\n"
   ]
  },
  {
   "cell_type": "markdown",
   "id": "03ddc961",
   "metadata": {},
   "source": [
    "# VISUALISING USING OPENCV"
   ]
  },
  {
   "cell_type": "code",
   "execution_count": 3,
   "id": "7e6c3ae0",
   "metadata": {},
   "outputs": [],
   "source": [
    "arr=[random.randint(1,200) for i in range(300)]\n",
    "j=len(arr)-1\n",
    "i=len(arr)\n",
    "switch=True\n",
    "\n",
    "\n",
    "while True:\n",
    "    blank=np.zeros((600,600,3),dtype=\"uint8\")\n",
    "    \n",
    "    \n",
    "    if i>=0  and switch:\n",
    "        heapify(arr, len(arr), i)\n",
    "        i-=1\n",
    "    elif j<0:\n",
    "        break\n",
    "    else:\n",
    "        arr[j], arr[0] = arr[0], arr[j]\n",
    "        heapify(arr, j, 0)\n",
    "        switch=False\n",
    "        j-=1\n",
    "    \n",
    "    \n",
    "   \n",
    "    \n",
    "    \n",
    "    \n",
    "    for k in range(len(arr)):\n",
    "        cv.line(blank,(k,600),(k,600-arr[k]),(255,255,255))\n",
    "    cv.imshow(\"selection sort\",blank)\n",
    "    time.sleep(.05)\n",
    "    if cv.waitKey(1)==ord(\"q\"):\n",
    "        break\n",
    "cv.destroyAllWindows()"
   ]
  },
  {
   "cell_type": "code",
   "execution_count": null,
   "id": "e6c353b7",
   "metadata": {},
   "outputs": [],
   "source": []
  }
 ],
 "metadata": {
  "kernelspec": {
   "display_name": "pandas_venv",
   "language": "python",
   "name": "pandas_venv"
  },
  "language_info": {
   "codemirror_mode": {
    "name": "ipython",
    "version": 3
   },
   "file_extension": ".py",
   "mimetype": "text/x-python",
   "name": "python",
   "nbconvert_exporter": "python",
   "pygments_lexer": "ipython3",
   "version": "3.10.1"
  }
 },
 "nbformat": 4,
 "nbformat_minor": 5
}
